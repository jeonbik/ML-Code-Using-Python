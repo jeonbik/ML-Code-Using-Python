{
 "cells": [
  {
   "cell_type": "code",
   "execution_count": 18,
   "metadata": {},
   "outputs": [],
   "source": [
    "import csv\n",
    "import pandas as pd\n",
    "import numpy as np\n",
    "import matplotlib.pyplot as plt\n",
    "from sklearn.linear_model import LinearRegression\n",
    "from sklearn.model_selection import train_test_split\n",
    "from sklearn import metrics"
   ]
  },
  {
   "cell_type": "code",
   "execution_count": 19,
   "metadata": {},
   "outputs": [
    {
     "name": "stdout",
     "output_type": "stream",
     "text": [
      "          Make       Model  Year                Engine Fuel Type  Engine HP  \\\n",
      "0          BMW  1 Series M  2011     premium unleaded (required)      335.0   \n",
      "1          BMW    1 Series  2011     premium unleaded (required)      300.0   \n",
      "2          BMW    1 Series  2011     premium unleaded (required)      300.0   \n",
      "3          BMW    1 Series  2011     premium unleaded (required)      230.0   \n",
      "4          BMW    1 Series  2011     premium unleaded (required)      230.0   \n",
      "...        ...         ...   ...                             ...        ...   \n",
      "11909    Acura         ZDX  2012     premium unleaded (required)      300.0   \n",
      "11910    Acura         ZDX  2012     premium unleaded (required)      300.0   \n",
      "11911    Acura         ZDX  2012     premium unleaded (required)      300.0   \n",
      "11912    Acura         ZDX  2013  premium unleaded (recommended)      300.0   \n",
      "11913  Lincoln      Zephyr  2006                regular unleaded      221.0   \n",
      "\n",
      "       Engine Cylinders Transmission Type      Driven_Wheels  Number of Doors  \\\n",
      "0                   6.0            MANUAL   rear wheel drive              2.0   \n",
      "1                   6.0            MANUAL   rear wheel drive              2.0   \n",
      "2                   6.0            MANUAL   rear wheel drive              2.0   \n",
      "3                   6.0            MANUAL   rear wheel drive              2.0   \n",
      "4                   6.0            MANUAL   rear wheel drive              2.0   \n",
      "...                 ...               ...                ...              ...   \n",
      "11909               6.0         AUTOMATIC    all wheel drive              4.0   \n",
      "11910               6.0         AUTOMATIC    all wheel drive              4.0   \n",
      "11911               6.0         AUTOMATIC    all wheel drive              4.0   \n",
      "11912               6.0         AUTOMATIC    all wheel drive              4.0   \n",
      "11913               6.0         AUTOMATIC  front wheel drive              4.0   \n",
      "\n",
      "                             Market Category Vehicle Size  Vehicle Style  \\\n",
      "0      Factory Tuner,Luxury,High-Performance      Compact          Coupe   \n",
      "1                         Luxury,Performance      Compact    Convertible   \n",
      "2                    Luxury,High-Performance      Compact          Coupe   \n",
      "3                         Luxury,Performance      Compact          Coupe   \n",
      "4                                     Luxury      Compact    Convertible   \n",
      "...                                      ...          ...            ...   \n",
      "11909             Crossover,Hatchback,Luxury      Midsize  4dr Hatchback   \n",
      "11910             Crossover,Hatchback,Luxury      Midsize  4dr Hatchback   \n",
      "11911             Crossover,Hatchback,Luxury      Midsize  4dr Hatchback   \n",
      "11912             Crossover,Hatchback,Luxury      Midsize  4dr Hatchback   \n",
      "11913                                 Luxury      Midsize          Sedan   \n",
      "\n",
      "       highway MPG  city mpg  Popularity   MSRP  \n",
      "0               26        19        3916  46135  \n",
      "1               28        19        3916  40650  \n",
      "2               28        20        3916  36350  \n",
      "3               28        18        3916  29450  \n",
      "4               28        18        3916  34500  \n",
      "...            ...       ...         ...    ...  \n",
      "11909           23        16         204  46120  \n",
      "11910           23        16         204  56670  \n",
      "11911           23        16         204  50620  \n",
      "11912           23        16         204  50920  \n",
      "11913           26        17          61  28995  \n",
      "\n",
      "[11914 rows x 16 columns]\n"
     ]
    }
   ],
   "source": [
    "file=pd.read_csv(\"data.csv\")\n",
    "print(file)"
   ]
  },
  {
   "cell_type": "code",
   "execution_count": 20,
   "metadata": {},
   "outputs": [
    {
     "name": "stdout",
     "output_type": "stream",
     "text": [
      "190624\n"
     ]
    }
   ],
   "source": [
    "file.describe()\n",
    "print(file.size)"
   ]
  },
  {
   "cell_type": "code",
   "execution_count": 21,
   "metadata": {},
   "outputs": [],
   "source": [
    "file.replace([np.inf, -np.inf], np.nan, inplace=True)"
   ]
  },
  {
   "cell_type": "code",
   "execution_count": 22,
   "metadata": {},
   "outputs": [
    {
     "name": "stdout",
     "output_type": "stream",
     "text": [
      "Make                 False\n",
      "Model                False\n",
      "Year                 False\n",
      "Engine Fuel Type     False\n",
      "Engine HP            False\n",
      "Engine Cylinders     False\n",
      "Transmission Type    False\n",
      "Driven_Wheels        False\n",
      "Number of Doors      False\n",
      "Market Category      False\n",
      "Vehicle Size         False\n",
      "Vehicle Style        False\n",
      "highway MPG          False\n",
      "city mpg             False\n",
      "Popularity           False\n",
      "MSRP                 False\n",
      "dtype: bool\n"
     ]
    }
   ],
   "source": [
    "file.isnull().any()\n",
    "file=file.fillna(0)\n",
    "print(file.isnull().any())"
   ]
  },
  {
   "cell_type": "code",
   "execution_count": 26,
   "metadata": {},
   "outputs": [],
   "source": [
    "x=file[['Year',\"Engine HP\",\"Engine Cylinders\",'Number of Doors','highway MPG','city mpg','Popularity']].values\n",
    "y=file['MSRP'].values"
   ]
  },
  {
   "cell_type": "code",
   "execution_count": 27,
   "metadata": {},
   "outputs": [],
   "source": [
    "x_train,x_test,y_train,y_test=train_test_split(x,y,test_size=0.2,random_state=0)"
   ]
  },
  {
   "cell_type": "code",
   "execution_count": 28,
   "metadata": {},
   "outputs": [
    {
     "data": {
      "text/plain": [
       "LinearRegression(copy_X=True, fit_intercept=True, n_jobs=None, normalize=False)"
      ]
     },
     "execution_count": 28,
     "metadata": {},
     "output_type": "execute_result"
    }
   ],
   "source": [
    "linear_model=LinearRegression()\n",
    "linear_model.fit(x_train,y_train)\n",
    "#y_predict=linear_model(x_train,y_train)"
   ]
  },
  {
   "cell_type": "code",
   "execution_count": 30,
   "metadata": {},
   "outputs": [],
   "source": [
    "y_predict=linear_model.predict(x_test)"
   ]
  },
  {
   "cell_type": "code",
   "execution_count": 32,
   "metadata": {},
   "outputs": [
    {
     "name": "stdout",
     "output_type": "stream",
     "text": [
      "         Predicted   Real \n",
      "0      31615.450765  39460\n",
      "1      28251.323791   2107\n",
      "2      78368.046393  56260\n",
      "3     124992.260175  39995\n",
      "4      32109.446744  29925\n",
      "...             ...    ...\n",
      "2378   -4442.199621  13199\n",
      "2379   42737.641321  62200\n",
      "2380   37707.038440  53450\n",
      "2381   21833.328759  23605\n",
      "2382   31040.962392  26600\n",
      "\n",
      "[2383 rows x 2 columns]\n"
     ]
    }
   ],
   "source": [
    "data_frame=pd.DataFrame({\"Predicted \":y_predict, \"Real \": y_test})\n",
    "print(data_frame)"
   ]
  },
  {
   "cell_type": "code",
   "execution_count": 34,
   "metadata": {},
   "outputs": [
    {
     "name": "stdout",
     "output_type": "stream",
     "text": [
      "The fixed value is: -368184.0647827747\n",
      "   Coefficient\n",
      "0   137.666578\n",
      "1   316.560672\n",
      "2  7372.119684\n",
      "3 -4933.233697\n",
      "4   586.739394\n",
      "5   946.437223\n",
      "6    -3.316130\n"
     ]
    }
   ],
   "source": [
    "coef_model=pd.DataFrame(linear_model.coef_,columns=[\"Coefficient\"])\n",
    "print(\"The fixed value is:\", linear_model.intercept_)\n",
    "print(coef_model)"
   ]
  },
  {
   "cell_type": "markdown",
   "metadata": {},
   "source": [
    "\n"
   ]
  },
  {
   "cell_type": "code",
   "execution_count": 35,
   "metadata": {},
   "outputs": [
    {
     "name": "stdout",
     "output_type": "stream",
     "text": [
      "20270.49117399433\n",
      "1049680936.9303474\n",
      "32398.779867926314\n"
     ]
    }
   ],
   "source": [
    "absolute_error=metrics.mean_absolute_error(y_predict,y_test)\n",
    "mean_error=metrics.mean_squared_error(y_predict,y_test)\n",
    "mean_square=np.sqrt(mean_error)\n",
    "print(absolute_error)\n",
    "print(mean_error)\n",
    "print(mean_square)"
   ]
  },
  {
   "cell_type": "code",
   "execution_count": null,
   "metadata": {},
   "outputs": [],
   "source": []
  }
 ],
 "metadata": {
  "kernelspec": {
   "display_name": "Python 3",
   "language": "python",
   "name": "python3"
  },
  "language_info": {
   "codemirror_mode": {
    "name": "ipython",
    "version": 3
   },
   "file_extension": ".py",
   "mimetype": "text/x-python",
   "name": "python",
   "nbconvert_exporter": "python",
   "pygments_lexer": "ipython3",
   "version": "3.7.7"
  }
 },
 "nbformat": 4,
 "nbformat_minor": 4
}
